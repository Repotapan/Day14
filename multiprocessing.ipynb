{
 "cells": [
  {
   "cell_type": "code",
   "execution_count": 12,
   "id": "a1dbf8fe-1e88-4fe6-8635-d2cc6026af12",
   "metadata": {},
   "outputs": [
    {
     "name": "stdout",
     "output_type": "stream",
     "text": [
      "this is my main program\n",
      "this is my multiprocessing program\n"
     ]
    }
   ],
   "source": [
    "import multiprocessing\n",
    "def test():\n",
    "    print(\"this is my multiprocessing program\")\n",
    "if __name__==\"__main__\":\n",
    "    m = multiprocessing.Process(target=test)\n",
    "    print(\"this is my main program\")\n",
    "    m.start()\n",
    "    m.join()\n",
    "    "
   ]
  },
  {
   "cell_type": "code",
   "execution_count": 2,
   "id": "71bd5177-399b-44ec-b85f-91d18dad1089",
   "metadata": {},
   "outputs": [
    {
     "name": "stdout",
     "output_type": "stream",
     "text": [
      "this is my multiprocessing program\n"
     ]
    }
   ],
   "source": [
    "test()"
   ]
  },
  {
   "cell_type": "code",
   "execution_count": 13,
   "id": "49c45285-5528-47d7-b69d-66c6ee4c1791",
   "metadata": {},
   "outputs": [
    {
     "name": "stdout",
     "output_type": "stream",
     "text": [
      "[1, 4, 9, 16, 25, 36, 49, 64, 81]\n"
     ]
    }
   ],
   "source": [
    "def square(n):\n",
    "    return n**2\n",
    "if __name__ == \"__main__\":\n",
    "    with multiprocessing.Pool(processes=4) as pool:\n",
    "        out=pool.map(square,[1,2,3,4,5,6,7,8,9])\n",
    "        print(out)\n",
    "    "
   ]
  },
  {
   "cell_type": "code",
   "execution_count": null,
   "id": "ede78c4f-78ae-4b25-bf3b-8da244d097c0",
   "metadata": {},
   "outputs": [
    {
     "name": "stdout",
     "output_type": "stream",
     "text": [
      "0\n",
      "1\n",
      "2\n",
      "3\n",
      "4\n",
      "5\n",
      "6\n",
      "7\n",
      "8\n",
      "9\n",
      "tapan\n"
     ]
    }
   ],
   "source": [
    "def producer(q):\n",
    "    for i in range(10):\n",
    "        q.put(i)\n",
    "\n",
    "def consume(q):\n",
    "    while True:\n",
    "        item=q.get()\n",
    "        if item is None:\n",
    "            break\n",
    "        print(item)\n",
    "if __name__ == \"__main__\":\n",
    "    queue=multiprocessing.Queue()\n",
    "    m1=multiprocessing.Process(target=producer,args=(queue,))\n",
    "    m2=multiprocessing.Process(target=consume,args=(queue,))\n",
    "    m1.start()\n",
    "    m2.start()\n",
    "    queue.put(\"tapan\")\n",
    "    m1.join()\n",
    "    m2.join()\n",
    "        "
   ]
  },
  {
   "cell_type": "code",
   "execution_count": null,
   "id": "6f87d9ee-4549-4f86-85cc-73ae1852c819",
   "metadata": {},
   "outputs": [
    {
     "name": "stdout",
     "output_type": "stream",
     "text": [
      "tapan\n",
      "pati\n",
      "nihar\n",
      "sahoo\n",
      "lulu\n"
     ]
    }
   ],
   "source": [
    "import multiprocessing\n",
    "def produce(q):\n",
    "    for i in [\"tapan\",\"pati\",\"nihar\",\"sahoo\"]:\n",
    "        q.put(i)\n",
    "\n",
    "def consume(q):\n",
    "    while True:\n",
    "        item=q.get()\n",
    "        if item is None:\n",
    "            break\n",
    "        print(item)\n",
    "        \n",
    "if __name__ == \"__main__\":\n",
    "    queue1=multiprocessing.Queue()\n",
    "    m3=multiprocessing.Process(target=produce,args=(queue1,))\n",
    "    m4=multiprocessing.Process(target=consume,args=(queue1,))\n",
    "    m3.start()\n",
    "    m4.start()\n",
    "    queue1.put(\"lulu\")\n",
    "    m3.join()\n",
    "    m4.join()"
   ]
  },
  {
   "cell_type": "code",
   "execution_count": 1,
   "id": "6c44263a-e9d6-4cd6-a3d0-2eb1c86b98cd",
   "metadata": {},
   "outputs": [
    {
     "name": "stdout",
     "output_type": "stream",
     "text": [
      "[4, 9, 16, 25, 36, 49, 64]\n"
     ]
    }
   ],
   "source": [
    "import multiprocessing\n",
    "def square(index,value):\n",
    "    value[index] = value[index]**2\n",
    "if __name__ == \"__main__\":\n",
    "    arr = multiprocessing.Array(\"i\",[2,3,4,5,6,7,8])\n",
    "    process=[]\n",
    "    for i in range(7):\n",
    "        m=multiprocessing.Process(target=square,args=(i,arr))\n",
    "        process.append(m)\n",
    "        m.start()\n",
    "    for i in process:\n",
    "        m.join()\n",
    "    print(list(arr))"
   ]
  },
  {
   "cell_type": "code",
   "execution_count": null,
   "id": "c74fb7e4-1511-4751-9692-0493b1164917",
   "metadata": {},
   "outputs": [
    {
     "name": "stdout",
     "output_type": "stream",
     "text": [
      "my name is tapan\n",
      "i am from jajpur\n",
      " i am pursuing mca at gift\n"
     ]
    }
   ],
   "source": [
    "import multiprocessing\n",
    "def sender(conn,msg):\n",
    "    for i in msg:\n",
    "        conn.send(i)\n",
    "    conn.close()\n",
    "\n",
    "        \n",
    "def receiver(conn):\n",
    "    while True:\n",
    "        try:\n",
    "            msg=conn.recv()\n",
    "        except Exception as e:\n",
    "            print(e)\n",
    "            break\n",
    "        print(msg)\n",
    "        \n",
    "        \n",
    "        \n",
    "if __name__==\"__main__\":\n",
    "    msg=[\"my name is tapan\",\"i am from jajpur\",\" i am pursuing mca at gift\"]\n",
    "    parent_con,child_con=multiprocessing.Pipe()\n",
    "    m1=multiprocessing.Process(target=sender,args=(parent_con,msg))\n",
    "    m2=multiprocessing.Process(target=receiver,args=(child_con,))\n",
    "    m1.start()\n",
    "    m2.start()\n",
    "    m1.join()\n",
    "    child_con.close()\n",
    "    m2.join()\n",
    "    parent_con.close()"
   ]
  },
  {
   "cell_type": "code",
   "execution_count": null,
   "id": "7f8e235c-94ad-4a09-802a-434fd009cc51",
   "metadata": {},
   "outputs": [
    {
     "name": "stdout",
     "output_type": "stream",
     "text": [
      "i am nihar\n",
      "i am from kdp\n",
      "i am porsuing btech\n"
     ]
    }
   ],
   "source": [
    "import multiprocessing\n",
    "def sender(conn,msg):\n",
    "    for i in msg:\n",
    "        conn.send(i)\n",
    "    conn.close()\n",
    "    \n",
    "def receiver(conn):\n",
    "    while True:\n",
    "        try:\n",
    "            msg=conn.recv()\n",
    "        except Exception as e:\n",
    "            print(e)\n",
    "            break\n",
    "        print(msg)\n",
    "        \n",
    "        \n",
    "if __name__==\"__main__\":\n",
    "    msg=[\"i am nihar\",\"i am from kdp\",\"i am porsuing btech\"]\n",
    "    parent_connection,child_connection=multiprocessing.Pipe()\n",
    "    m3=multiprocessing.Process(target=sender,args=(parent_connection,msg))\n",
    "    m4=multiprocessing.Process(target=receiver,args=(child_connection,))\n",
    "    m3.start()\n",
    "    m4.start()\n",
    "    m3.join()\n",
    "    parent_connection.close()\n",
    "    m4.join()\n",
    "    child_connection.close()\n",
    "    \n",
    "    \n",
    "    "
   ]
  },
  {
   "cell_type": "code",
   "execution_count": null,
   "id": "2b05d4a2-1752-4115-af6e-d57a40e57c8b",
   "metadata": {},
   "outputs": [],
   "source": []
  }
 ],
 "metadata": {
  "kernelspec": {
   "display_name": "Python 3 (ipykernel)",
   "language": "python",
   "name": "python3"
  },
  "language_info": {
   "codemirror_mode": {
    "name": "ipython",
    "version": 3
   },
   "file_extension": ".py",
   "mimetype": "text/x-python",
   "name": "python",
   "nbconvert_exporter": "python",
   "pygments_lexer": "ipython3",
   "version": "3.10.8"
  }
 },
 "nbformat": 4,
 "nbformat_minor": 5
}
